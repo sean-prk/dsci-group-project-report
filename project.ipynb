{
 "cells": [
  {
   "cell_type": "markdown",
   "id": "44d929db-06bf-43aa-98c7-3c95e739cf7c",
   "metadata": {},
   "source": [
    "# Rice Classification: Classifying a Grain of Rice with Neutral Physical Properties\n",
    "### DSCI100: Project Proposal (Group 124)\n",
    "\n",
    "##### Sean Park (66350992)\n",
    "##### Deacon Sowerby (50471499)\n",
    "##### Gabriel Reyes (80274921)\n",
    "##### David Rao (55832919)"
   ]
  },
  {
   "cell_type": "code",
   "execution_count": 5,
   "id": "b00f765b-b628-458b-9a86-bfbaf76dc06d",
   "metadata": {},
   "outputs": [],
   "source": [
    "library(tidyverse)\n",
    "library(tidymodels)\n",
    "options(repr.matrix.max.rows=6)"
   ]
  },
  {
   "cell_type": "markdown",
   "id": "7e22a9dc-e26b-498a-8ae9-db4f6e5538f7",
   "metadata": {},
   "source": [
    "## 1. Introduction\n",
    "\n",
    "### -> About the dataset\n",
    "Different types of rice are classified biologically by their origin; however, some of these types can also be identified by their physical shape. In our dataset, \"riceClassification.csv\", there are more than 18,000 observations of rice grains with specified physical measurements that classify as either the rice type \"**Gonen**' (indicated by the factor 0) or \"**Jasmine**\" (indicated by the factor 1). This data has been specially modified for binary classification."
   ]
  },
  {
   "cell_type": "code",
   "execution_count": 6,
   "id": "b6bbc464-a339-4aff-b8ad-ea510fa4ce93",
   "metadata": {},
   "outputs": [
    {
     "name": "stderr",
     "output_type": "stream",
     "text": [
      "\u001b[1mRows: \u001b[22m\u001b[34m18185\u001b[39m \u001b[1mColumns: \u001b[22m\u001b[34m12\u001b[39m\n",
      "\u001b[36m──\u001b[39m \u001b[1mColumn specification\u001b[22m \u001b[36m────────────────────────────────────────────────────────\u001b[39m\n",
      "\u001b[1mDelimiter:\u001b[22m \",\"\n",
      "\u001b[32mdbl\u001b[39m (12): id, Area, MajorAxisLength, MinorAxisLength, Eccentricity, ConvexAr...\n",
      "\n",
      "\u001b[36mℹ\u001b[39m Use `spec()` to retrieve the full column specification for this data.\n",
      "\u001b[36mℹ\u001b[39m Specify the column types or set `show_col_types = FALSE` to quiet this message.\n"
     ]
    },
    {
     "data": {
      "text/html": [
       "<table class=\"dataframe\">\n",
       "<caption>A tibble: 18185 × 12</caption>\n",
       "<thead>\n",
       "\t<tr><th scope=col>id</th><th scope=col>Area</th><th scope=col>MajorAxisLength</th><th scope=col>MinorAxisLength</th><th scope=col>Eccentricity</th><th scope=col>ConvexArea</th><th scope=col>EquivDiameter</th><th scope=col>Extent</th><th scope=col>Perimeter</th><th scope=col>Roundness</th><th scope=col>AspectRation</th><th scope=col>Class</th></tr>\n",
       "\t<tr><th scope=col>&lt;dbl&gt;</th><th scope=col>&lt;dbl&gt;</th><th scope=col>&lt;dbl&gt;</th><th scope=col>&lt;dbl&gt;</th><th scope=col>&lt;dbl&gt;</th><th scope=col>&lt;dbl&gt;</th><th scope=col>&lt;dbl&gt;</th><th scope=col>&lt;dbl&gt;</th><th scope=col>&lt;dbl&gt;</th><th scope=col>&lt;dbl&gt;</th><th scope=col>&lt;dbl&gt;</th><th scope=col>&lt;fct&gt;</th></tr>\n",
       "</thead>\n",
       "<tbody>\n",
       "\t<tr><td>1</td><td>4537</td><td>92.22932</td><td>64.01277</td><td>0.7199162</td><td>4677</td><td>76.00452</td><td>0.6575362</td><td>273.085</td><td>0.7645096</td><td>1.440796</td><td>1</td></tr>\n",
       "\t<tr><td>2</td><td>2872</td><td>74.69188</td><td>51.40045</td><td>0.7255527</td><td>3015</td><td>60.47102</td><td>0.7130089</td><td>208.317</td><td>0.8316582</td><td>1.453137</td><td>1</td></tr>\n",
       "\t<tr><td>3</td><td>3048</td><td>76.29316</td><td>52.04349</td><td>0.7312109</td><td>3132</td><td>62.29634</td><td>0.7591532</td><td>210.012</td><td>0.8684336</td><td>1.465950</td><td>1</td></tr>\n",
       "\t<tr><td>⋮</td><td>⋮</td><td>⋮</td><td>⋮</td><td>⋮</td><td>⋮</td><td>⋮</td><td>⋮</td><td>⋮</td><td>⋮</td><td>⋮</td><td>⋮</td></tr>\n",
       "\t<tr><td>18183</td><td>6365</td><td>154.7771</td><td>52.90808</td><td>0.9397603</td><td>6531</td><td>90.02316</td><td>0.5612875</td><td>342.253</td><td>0.6828318</td><td>2.925396</td><td>0</td></tr>\n",
       "\t<tr><td>18184</td><td>5960</td><td>151.3979</td><td>51.47460</td><td>0.9404271</td><td>6189</td><td>87.11204</td><td>0.4923992</td><td>343.371</td><td>0.6352269</td><td>2.941216</td><td>0</td></tr>\n",
       "\t<tr><td>18185</td><td>6134</td><td>153.0820</td><td>51.59061</td><td>0.9415000</td><td>6283</td><td>88.37450</td><td>0.4899752</td><td>338.613</td><td>0.6722741</td><td>2.967245</td><td>0</td></tr>\n",
       "</tbody>\n",
       "</table>\n"
      ],
      "text/latex": [
       "A tibble: 18185 × 12\n",
       "\\begin{tabular}{llllllllllll}\n",
       " id & Area & MajorAxisLength & MinorAxisLength & Eccentricity & ConvexArea & EquivDiameter & Extent & Perimeter & Roundness & AspectRation & Class\\\\\n",
       " <dbl> & <dbl> & <dbl> & <dbl> & <dbl> & <dbl> & <dbl> & <dbl> & <dbl> & <dbl> & <dbl> & <fct>\\\\\n",
       "\\hline\n",
       "\t 1 & 4537 & 92.22932 & 64.01277 & 0.7199162 & 4677 & 76.00452 & 0.6575362 & 273.085 & 0.7645096 & 1.440796 & 1\\\\\n",
       "\t 2 & 2872 & 74.69188 & 51.40045 & 0.7255527 & 3015 & 60.47102 & 0.7130089 & 208.317 & 0.8316582 & 1.453137 & 1\\\\\n",
       "\t 3 & 3048 & 76.29316 & 52.04349 & 0.7312109 & 3132 & 62.29634 & 0.7591532 & 210.012 & 0.8684336 & 1.465950 & 1\\\\\n",
       "\t ⋮ & ⋮ & ⋮ & ⋮ & ⋮ & ⋮ & ⋮ & ⋮ & ⋮ & ⋮ & ⋮ & ⋮\\\\\n",
       "\t 18183 & 6365 & 154.7771 & 52.90808 & 0.9397603 & 6531 & 90.02316 & 0.5612875 & 342.253 & 0.6828318 & 2.925396 & 0\\\\\n",
       "\t 18184 & 5960 & 151.3979 & 51.47460 & 0.9404271 & 6189 & 87.11204 & 0.4923992 & 343.371 & 0.6352269 & 2.941216 & 0\\\\\n",
       "\t 18185 & 6134 & 153.0820 & 51.59061 & 0.9415000 & 6283 & 88.37450 & 0.4899752 & 338.613 & 0.6722741 & 2.967245 & 0\\\\\n",
       "\\end{tabular}\n"
      ],
      "text/markdown": [
       "\n",
       "A tibble: 18185 × 12\n",
       "\n",
       "| id &lt;dbl&gt; | Area &lt;dbl&gt; | MajorAxisLength &lt;dbl&gt; | MinorAxisLength &lt;dbl&gt; | Eccentricity &lt;dbl&gt; | ConvexArea &lt;dbl&gt; | EquivDiameter &lt;dbl&gt; | Extent &lt;dbl&gt; | Perimeter &lt;dbl&gt; | Roundness &lt;dbl&gt; | AspectRation &lt;dbl&gt; | Class &lt;fct&gt; |\n",
       "|---|---|---|---|---|---|---|---|---|---|---|---|\n",
       "| 1 | 4537 | 92.22932 | 64.01277 | 0.7199162 | 4677 | 76.00452 | 0.6575362 | 273.085 | 0.7645096 | 1.440796 | 1 |\n",
       "| 2 | 2872 | 74.69188 | 51.40045 | 0.7255527 | 3015 | 60.47102 | 0.7130089 | 208.317 | 0.8316582 | 1.453137 | 1 |\n",
       "| 3 | 3048 | 76.29316 | 52.04349 | 0.7312109 | 3132 | 62.29634 | 0.7591532 | 210.012 | 0.8684336 | 1.465950 | 1 |\n",
       "| ⋮ | ⋮ | ⋮ | ⋮ | ⋮ | ⋮ | ⋮ | ⋮ | ⋮ | ⋮ | ⋮ | ⋮ |\n",
       "| 18183 | 6365 | 154.7771 | 52.90808 | 0.9397603 | 6531 | 90.02316 | 0.5612875 | 342.253 | 0.6828318 | 2.925396 | 0 |\n",
       "| 18184 | 5960 | 151.3979 | 51.47460 | 0.9404271 | 6189 | 87.11204 | 0.4923992 | 343.371 | 0.6352269 | 2.941216 | 0 |\n",
       "| 18185 | 6134 | 153.0820 | 51.59061 | 0.9415000 | 6283 | 88.37450 | 0.4899752 | 338.613 | 0.6722741 | 2.967245 | 0 |\n",
       "\n"
      ],
      "text/plain": [
       "      id    Area MajorAxisLength MinorAxisLength Eccentricity ConvexArea\n",
       "1     1     4537 92.22932        64.01277        0.7199162    4677      \n",
       "2     2     2872 74.69188        51.40045        0.7255527    3015      \n",
       "3     3     3048 76.29316        52.04349        0.7312109    3132      \n",
       "⋮     ⋮     ⋮    ⋮               ⋮               ⋮            ⋮         \n",
       "18183 18183 6365 154.7771        52.90808        0.9397603    6531      \n",
       "18184 18184 5960 151.3979        51.47460        0.9404271    6189      \n",
       "18185 18185 6134 153.0820        51.59061        0.9415000    6283      \n",
       "      EquivDiameter Extent    Perimeter Roundness AspectRation Class\n",
       "1     76.00452      0.6575362 273.085   0.7645096 1.440796     1    \n",
       "2     60.47102      0.7130089 208.317   0.8316582 1.453137     1    \n",
       "3     62.29634      0.7591532 210.012   0.8684336 1.465950     1    \n",
       "⋮     ⋮             ⋮         ⋮         ⋮         ⋮            ⋮    \n",
       "18183 90.02316      0.5612875 342.253   0.6828318 2.925396     0    \n",
       "18184 87.11204      0.4923992 343.371   0.6352269 2.941216     0    \n",
       "18185 88.37450      0.4899752 338.613   0.6722741 2.967245     0    "
      ]
     },
     "metadata": {},
     "output_type": "display_data"
    }
   ],
   "source": [
    "url = \"https://raw.githubusercontent.com/sean-prk/group-124-proposal/main/riceClassification.csv\"\n",
    "# referenced a csv file from our own GitHub repository\n",
    "\n",
    "download.file(url, \"riceClassification.csv\")\n",
    "\n",
    "rice_data <- read_csv(\"riceClassification.csv\") |>\n",
    "    mutate(Class = as_factor(Class))\n",
    "rice_data"
   ]
  },
  {
   "cell_type": "markdown",
   "id": "1568bfb3-df65-4c72-b485-cceedf51a5fe",
   "metadata": {},
   "source": [
    "### -> Our objective\n",
    "We will build a classifier that classifies a rice grain as either Gonen or Jasmine given its physical properties. Using this classifier, we want to predict the class of a new rice observation that we will create to be seemingly neutral; the variables of this new observation will be decided by taking the average for that measurement from the original dataset (see below)."
   ]
  },
  {
   "cell_type": "code",
   "execution_count": 8,
   "id": "44a178fe-f3d1-4d0e-a08b-663487ab2fc5",
   "metadata": {},
   "outputs": [
    {
     "name": "stderr",
     "output_type": "stream",
     "text": [
      "Warning message in mean.default(.x[[i]], ...):\n",
      "“argument is not numeric or logical: returning NA”\n"
     ]
    },
    {
     "data": {
      "text/html": [
       "<table class=\"dataframe\">\n",
       "<caption>A tibble: 1 × 12</caption>\n",
       "<thead>\n",
       "\t<tr><th scope=col>id</th><th scope=col>Area</th><th scope=col>MajorAxisLength</th><th scope=col>MinorAxisLength</th><th scope=col>Eccentricity</th><th scope=col>ConvexArea</th><th scope=col>EquivDiameter</th><th scope=col>Extent</th><th scope=col>Perimeter</th><th scope=col>Roundness</th><th scope=col>AspectRation</th><th scope=col>Class</th></tr>\n",
       "\t<tr><th scope=col>&lt;dbl&gt;</th><th scope=col>&lt;dbl&gt;</th><th scope=col>&lt;dbl&gt;</th><th scope=col>&lt;dbl&gt;</th><th scope=col>&lt;dbl&gt;</th><th scope=col>&lt;dbl&gt;</th><th scope=col>&lt;dbl&gt;</th><th scope=col>&lt;dbl&gt;</th><th scope=col>&lt;dbl&gt;</th><th scope=col>&lt;dbl&gt;</th><th scope=col>&lt;dbl&gt;</th><th scope=col>&lt;dbl&gt;</th></tr>\n",
       "</thead>\n",
       "<tbody>\n",
       "\t<tr><td>9093</td><td>7036.493</td><td>151.6808</td><td>59.80785</td><td>0.9154064</td><td>7225.818</td><td>94.13295</td><td>0.6166528</td><td>351.6069</td><td>0.7079983</td><td>2.599081</td><td>NA</td></tr>\n",
       "</tbody>\n",
       "</table>\n"
      ],
      "text/latex": [
       "A tibble: 1 × 12\n",
       "\\begin{tabular}{llllllllllll}\n",
       " id & Area & MajorAxisLength & MinorAxisLength & Eccentricity & ConvexArea & EquivDiameter & Extent & Perimeter & Roundness & AspectRation & Class\\\\\n",
       " <dbl> & <dbl> & <dbl> & <dbl> & <dbl> & <dbl> & <dbl> & <dbl> & <dbl> & <dbl> & <dbl> & <dbl>\\\\\n",
       "\\hline\n",
       "\t 9093 & 7036.493 & 151.6808 & 59.80785 & 0.9154064 & 7225.818 & 94.13295 & 0.6166528 & 351.6069 & 0.7079983 & 2.599081 & NA\\\\\n",
       "\\end{tabular}\n"
      ],
      "text/markdown": [
       "\n",
       "A tibble: 1 × 12\n",
       "\n",
       "| id &lt;dbl&gt; | Area &lt;dbl&gt; | MajorAxisLength &lt;dbl&gt; | MinorAxisLength &lt;dbl&gt; | Eccentricity &lt;dbl&gt; | ConvexArea &lt;dbl&gt; | EquivDiameter &lt;dbl&gt; | Extent &lt;dbl&gt; | Perimeter &lt;dbl&gt; | Roundness &lt;dbl&gt; | AspectRation &lt;dbl&gt; | Class &lt;dbl&gt; |\n",
       "|---|---|---|---|---|---|---|---|---|---|---|---|\n",
       "| 9093 | 7036.493 | 151.6808 | 59.80785 | 0.9154064 | 7225.818 | 94.13295 | 0.6166528 | 351.6069 | 0.7079983 | 2.599081 | NA |\n",
       "\n"
      ],
      "text/plain": [
       "  id   Area     MajorAxisLength MinorAxisLength Eccentricity ConvexArea\n",
       "1 9093 7036.493 151.6808        59.80785        0.9154064    7225.818  \n",
       "  EquivDiameter Extent    Perimeter Roundness AspectRation Class\n",
       "1 94.13295      0.6166528 351.6069  0.7079983 2.599081     NA   "
      ]
     },
     "metadata": {},
     "output_type": "display_data"
    }
   ],
   "source": [
    "new_obs <- rice_data |>\n",
    "    map(cols = Area:Class, mean) |>  \n",
    "                #take mean of every potential predictor variable\n",
    "    as_tibble() \n",
    "                #use results as the measurements for new observation\n",
    "new_obs"
   ]
  },
  {
   "cell_type": "markdown",
   "id": "aa106a2c-d8c2-4cf3-9eca-3a4f2c9fde41",
   "metadata": {},
   "source": [
    "### -> Our question\n",
    "**Which class, either Gonen or Jasmine, will this \"neutral\" observation be classified as?**\n",
    "As well, what statistical factors influence/determine the decision of our classifier?"
   ]
  },
  {
   "cell_type": "markdown",
   "id": "11299f4c-3512-4d4e-a023-591087bf92d3",
   "metadata": {},
   "source": [
    "### -> Our thesis\n",
    "\n",
    "We expect our \"neutral\" observation to be classified as Jasmine (1).\n",
    "\n",
    "We saw that there are more observations classified as Jasmine in the original dataset. Therefore, when taking the average of each variable to set new values for the new observation, the averages would be more influenced by Jasmine observations than Gonen (due to its frequency)."
   ]
  },
  {
   "cell_type": "markdown",
   "id": "f9c59784-4e36-4d9a-a9de-ca10436710a2",
   "metadata": {},
   "source": [
    "## 2. Methods and Results\n",
    "\n",
    "### -> Pre-analysis\n",
    "\n",
    "(steps included for making process, do not need to be in final version.)\n",
    "\n",
    "##### i) Loading/tidying the data and creating the \"new\" observation\n",
    "\n",
    "... "
   ]
  },
  {
   "cell_type": "markdown",
   "id": "39fd85cc-c954-45ba-9db4-507317eb0093",
   "metadata": {},
   "source": [
    "##### ii) Summary and visualization\n",
    "\n",
    "(can grab this from proposal)"
   ]
  },
  {
   "cell_type": "markdown",
   "id": "4b859b30-49bd-4844-855f-8e37b1b7394e",
   "metadata": {},
   "source": [
    "##### iii) Selecting predictors"
   ]
  },
  {
   "cell_type": "markdown",
   "id": "63cdaabd-5ce4-47f8-904c-e531da5a0a36",
   "metadata": {},
   "source": [
    "### -> Data analysis with steps\n",
    "\n",
    "(steps included for making process, do not need to be in final version.)\n",
    "\n",
    "##### i) Splitting the data"
   ]
  },
  {
   "cell_type": "markdown",
   "id": "67961a81-bff4-476d-ad37-bfa30277d528",
   "metadata": {},
   "source": [
    "##### ii) Creating a recipe / tuning model"
   ]
  },
  {
   "cell_type": "markdown",
   "id": "8e2f799a-ec92-4601-9d1f-4fad9106aec8",
   "metadata": {},
   "source": [
    "##### iii) Tuning the model and choosing the best K"
   ]
  },
  {
   "cell_type": "markdown",
   "id": "479b315a-70fb-4a06-824c-064066fd7ad8",
   "metadata": {},
   "source": [
    "##### iv) Making a model with the best parameter K"
   ]
  },
  {
   "cell_type": "markdown",
   "id": "01190801-7460-42ee-a70e-923ec6119c22",
   "metadata": {},
   "source": [
    "##### v) Evaluating the estimated accuracy of the classifier"
   ]
  },
  {
   "cell_type": "markdown",
   "id": "74f5ebf1-479b-48dd-a331-fb373c68e45d",
   "metadata": {},
   "source": [
    "##### vi) Classifying the \"new\" observation"
   ]
  },
  {
   "cell_type": "markdown",
   "id": "0c1b87fd-4a63-4835-9ed5-a18d63d20c9b",
   "metadata": {},
   "source": [
    "## 3.  Discussion\n",
    "\n",
    "... what we found, if it matches our thesis, statistical impact of findings, possible future questions."
   ]
  },
  {
   "cell_type": "markdown",
   "id": "b16913d9-8908-4f1f-8442-36e671bd3ebe",
   "metadata": {},
   "source": [
    "## 4. References\n",
    "\n"
   ]
  },
  {
   "cell_type": "code",
   "execution_count": null,
   "id": "b9792ebd-9bf2-4fa5-b1b9-347661030a91",
   "metadata": {},
   "outputs": [],
   "source": []
  }
 ],
 "metadata": {
  "kernelspec": {
   "display_name": "R",
   "language": "R",
   "name": "ir"
  },
  "language_info": {
   "codemirror_mode": "r",
   "file_extension": ".r",
   "mimetype": "text/x-r-source",
   "name": "R",
   "pygments_lexer": "r",
   "version": "4.1.3"
  }
 },
 "nbformat": 4,
 "nbformat_minor": 5
}
